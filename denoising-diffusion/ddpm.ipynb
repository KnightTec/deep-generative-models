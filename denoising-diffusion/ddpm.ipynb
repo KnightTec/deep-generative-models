{
 "cells": [
  {
   "attachments": {},
   "cell_type": "markdown",
   "metadata": {},
   "source": [
    "# Project 3: Denoising Diffusion (10 pts)\n",
    "\n",
    "In this project, you will implement a denoising diffusion model to generate MNIST digits. The main idea is that a sufficiently powerful model learns to remove a bit of noise from a noisy sample. By iterating this model on a sample drawn from pure noise, one can generate samples from the training data distribution.\n",
    "\n",
    "Generating reasonable samples with diffusion requires more advanced architectures than a simple MLP or CNN stack. To let you focus on implementing the core algorithm, we provide you with two model architectures:\n",
    "1. A simple convolutional resnet\n",
    "2. A small U-net variant\n",
    "\n",
    "The former requires less compute and can get you some results even with CPU training in a few minutes. However, in our experience the resnet model will only generate strokes and blotches without the global structure of a digit because of the limited receptive field of the model. If you have a GPU or a bit more time on your hands, you can change the configuration to train a U-net. This takes roughly 5-10x as long but can yield some actual digits if you train it long enough.\n",
    "\n",
    "**Note**: There was a crucial typo in one of the formulas on the slides. Make sure to download the most recent slides from moodle!\n",
    "\n",
    "## Your task\n",
    "\n",
    "Complete the missing code. Make sure that all the functions follow the provided specification, i.e. the output of the function exactly matches the description in the docstring. \n",
    "\n",
    "## General Remarks\n",
    "\n",
    "Only functionality in the python files will be graded. Carefully read the method docstrings to understand the task, parameters and what output is expected.\n",
    "Fill in the missing code at the markers in `ddpm.py`.\n",
    "```python\n",
    "###########################\n",
    "# YOUR CODE HERE\n",
    "###########################\n",
    "```\n",
    "Do not add or modify any code at other places in the notebook and python code files except where otherwise explicitly stated.\n",
    "After you fill in all the missing code, restart the kernel and re-run all the cells in the notebook.\n",
    "\n",
    "The following things are **NOT** allowed:\n",
    "- Using additional `import` statements\n",
    "- Using the `torch.distributions` package\n",
    "- Copying / reusing code from other sources (e.g. code by other students)\n",
    "\n",
    "If you plagiarise even for a single project task, you won't be eligible for the bonus this semester."
   ]
  },
  {
   "cell_type": "markdown",
   "metadata": {},
   "source": [
    "## Task 1: Beta Schedule (2pt)\n",
    "\n",
    "Your first task is to implement a beta schedule in the `__init__` method of the DDPM class, i.e. a sequence of non-decreasing $0 < \\beta_i < 1, i = 0, \\ldots, N - 1$. A reasonable default is a linear increase from `1e-4` to `2e-2` as proposed in the [original DDPM paper](https://arxiv.org/abs/2006.11239). Additionally, you have to compute the derived variables $\\alpha$, $\\bar{\\alpha}$ and $\\tilde{\\beta}$. Feel free to compute other coefficients for your later computations here but you should implement and use at least these 4."
   ]
  },
  {
   "cell_type": "markdown",
   "metadata": {},
   "source": [
    "## Task 2: Simplified Loss (2pt)\n",
    "\n",
    "Here, you have to implement the simplified loss from slide 16 in the method `simplified_loss`.\n",
    "\n",
    "**Note**: The DDPM implementation works with integer noise levels `n` but the models work best with a normalized noise level between $0$ and $1$. So remember to normalize the noise level before calling the model."
   ]
  },
  {
   "cell_type": "markdown",
   "metadata": {},
   "source": [
    "This already gives us everything we need to train the model. The next two tasks yield support routines for the sampling procedure in the final task."
   ]
  },
  {
   "cell_type": "markdown",
   "metadata": {},
   "source": [
    "## Task 3: Compute $x_0$ from $z_n$ and $\\varepsilon$ (2pt)\n",
    "\n",
    "Given a sample $z_n$ and (an estimate of) $\\varepsilon$, we want to find the $x_0$ that produced $z_n$. This will be necessary to sample $z_{n-1}$ in the sampling procedure.\n",
    "\n",
    "Implement this computation in `estimate_x0`."
   ]
  },
  {
   "cell_type": "markdown",
   "metadata": {},
   "source": [
    "## Task 4: Sample from $q_{\\varphi(x_0)}(z_{n-1} \\mid z_n)$ (2pt)\n",
    "\n",
    "Given $x_0$ and $z_n$, the method `sample_z_n_previous` should generate a sample from $q_{\\varphi(x_0)}(z_{n-1} \\mid z_n)$."
   ]
  },
  {
   "cell_type": "markdown",
   "metadata": {},
   "source": [
    "## Task 5: Iterative Sampling (2pt)\n",
    "\n",
    "Finally, implement the iterative sampling procedure on slide 18. Remember to use the utility functions from the previous two tasks."
   ]
  },
  {
   "cell_type": "markdown",
   "metadata": {},
   "source": [
    "## Install required packages\n",
    "\n",
    "Remove the `--quiet` flag to see installation progress."
   ]
  },
  {
   "cell_type": "code",
   "execution_count": 1,
   "metadata": {},
   "outputs": [],
   "source": [
    "!pip install --quiet -r requirements.txt"
   ]
  },
  {
   "cell_type": "code",
   "execution_count": 2,
   "metadata": {},
   "outputs": [],
   "source": [
    "import numpy as np\n",
    "import torch\n",
    "from torchvision import datasets, transforms\n",
    "\n",
    "from ddpm import DDPM\n",
    "from visualization import visualize_dataset_mnist, visualize_mnist_samples"
   ]
  },
  {
   "attachments": {},
   "cell_type": "markdown",
   "metadata": {},
   "source": [
    "## Select an accelerator (CPU or GPU)\n",
    "\n",
    "Select an accelerator for this project: If you have a GPU available, it will greatly speed up computations. It should however also be feasible to run this notebook entirely on a CPU."
   ]
  },
  {
   "cell_type": "code",
   "execution_count": 3,
   "metadata": {},
   "outputs": [
    {
     "name": "stdout",
     "output_type": "stream",
     "text": [
      "Using device cuda\n"
     ]
    }
   ],
   "source": [
    "device = torch.device(\"cuda\" if torch.cuda.is_available() else \"cpu\")\n",
    "print(f\"Using device {device}\")"
   ]
  },
  {
   "attachments": {},
   "cell_type": "markdown",
   "metadata": {},
   "source": [
    "## Load the MNIST dataset"
   ]
  },
  {
   "cell_type": "code",
   "execution_count": 4,
   "metadata": {},
   "outputs": [],
   "source": [
    "batch_size = 128\n",
    "tfs = transforms.Compose([\n",
    "    transforms.ToTensor(),\n",
    "    transforms.Normalize((0.1307,), (0.3081,)),\n",
    "])\n",
    "train_data = datasets.MNIST(\"./data\", train=True, download=True, transform=tfs)\n",
    "test_data = datasets.MNIST(\"./data\", train=False, download=True, transform=tfs)\n",
    "\n",
    "train_loader = torch.utils.data.DataLoader(train_data, batch_size=batch_size, shuffle=True, num_workers=1, pin_memory=device.type == \"cuda\")\n",
    "test_loader = torch.utils.data.DataLoader(test_data, batch_size=batch_size, shuffle=False, num_workers=1, pin_memory=device.type == \"cuda\")"
   ]
  },
  {
   "cell_type": "markdown",
   "metadata": {},
   "source": [
    "## Visualize a few random samples from the dataset"
   ]
  },
  {
   "cell_type": "code",
   "execution_count": 5,
   "metadata": {},
   "outputs": [
    {
     "data": {
      "image/png": "[encoded data removed]",
      "text/plain": [
       "<Figure size 500x300 with 10 Axes>"
      ]
     },
     "metadata": {},
     "output_type": "display_data"
    }
   ],
   "source": [
    "visualize_dataset_mnist(train_data);"
   ]
  },
  {
   "cell_type": "markdown",
   "metadata": {},
   "source": [
    "## Model Training"
   ]
  },
  {
   "cell_type": "code",
   "execution_count": 6,
   "metadata": {},
   "outputs": [],
   "source": [
    "max_epochs = 20\n",
    "display_step = 100\n",
    "\n",
    "ddpm = DDPM(N=1000, type=\"unet\", hidden_dim=16, n_layers=2).to(device)\n",
    "opt = torch.optim.Adam(ddpm.parameters())"
   ]
  },
  {
   "cell_type": "code",
   "execution_count": 20,
   "metadata": {},
   "outputs": [
    {
     "name": "stdout",
     "output_type": "stream",
     "text": [
      "Epoch 0\n",
      "  loss = 2402.09\n",
      "  loss = 2487.08\n",
      "  loss = 2832.07\n",
      "  loss = 2624.96\n",
      "  loss = 2210.89\n",
      "  => mean(loss) = 2635.05\n",
      "Epoch 1\n",
      "  loss = 3386.99\n",
      "  loss = 3069.72\n",
      "  loss = 2649.00\n",
      "  loss = 2918.50\n",
      "  loss = 2869.71\n",
      "  => mean(loss) = 2643.67\n",
      "Epoch 2\n",
      "  loss = 2283.84\n",
      "  loss = 2568.58\n",
      "  loss = 2969.24\n",
      "  loss = 2488.34\n",
      "  loss = 2332.88\n",
      "  => mean(loss) = 2611.38\n",
      "Epoch 3\n",
      "  loss = 2433.10\n",
      "  loss = 2205.70\n",
      "  loss = 2196.96\n",
      "  loss = 2113.63\n",
      "  loss = 2955.76\n",
      "  => mean(loss) = 2604.38\n",
      "Epoch 4\n",
      "  loss = 2679.24\n",
      "  loss = 2686.62\n",
      "  loss = 2056.04\n",
      "  loss = 2909.67\n",
      "  loss = 2632.98\n",
      "  => mean(loss) = 2630.54\n",
      "Epoch 5\n",
      "  loss = 2618.91\n",
      "  loss = 2071.48\n",
      "  loss = 3184.23\n",
      "  loss = 2801.16\n",
      "  loss = 2658.50\n",
      "  => mean(loss) = 2592.97\n",
      "Epoch 6\n",
      "  loss = 2528.95\n",
      "  loss = 2389.12\n",
      "  loss = 2391.45\n",
      "  loss = 2616.79\n",
      "  loss = 2450.79\n",
      "  => mean(loss) = 2591.56\n",
      "Epoch 7\n",
      "  loss = 2938.32\n",
      "  loss = 2815.41\n",
      "  loss = 2098.71\n",
      "  loss = 2746.05\n",
      "  loss = 2618.97\n",
      "  => mean(loss) = 2607.29\n",
      "Epoch 8\n",
      "  loss = 3021.64\n",
      "  loss = 2625.78\n",
      "  loss = 2693.93\n",
      "  loss = 2924.91\n",
      "  loss = 3051.47\n",
      "  => mean(loss) = 2599.25\n",
      "Epoch 9\n",
      "  loss = 2311.76\n",
      "  loss = 2791.66\n",
      "  loss = 2317.48\n",
      "  loss = 3058.33\n",
      "  loss = 2688.22\n",
      "  => mean(loss) = 2595.80\n",
      "Epoch 10\n",
      "  loss = 2419.46\n",
      "  loss = 2760.04\n",
      "  loss = 2087.70\n",
      "  loss = 2356.20\n",
      "  loss = 3154.82\n",
      "  => mean(loss) = 2590.34\n",
      "Epoch 11\n",
      "  loss = 2623.97\n",
      "  loss = 2658.11\n",
      "  loss = 2016.28\n",
      "  loss = 2381.92\n",
      "  loss = 2097.01\n",
      "  => mean(loss) = 2595.85\n",
      "Epoch 12\n",
      "  loss = 2058.10\n",
      "  loss = 3057.09\n",
      "  loss = 2790.12\n",
      "  loss = 2974.63\n",
      "  loss = 2096.10\n",
      "  => mean(loss) = 2591.06\n",
      "Epoch 13\n",
      "  loss = 2344.09\n",
      "  loss = 2742.42\n",
      "  loss = 2264.58\n",
      "  loss = 3019.93\n",
      "  loss = 2191.83\n",
      "  => mean(loss) = 2543.05\n",
      "Epoch 14\n",
      "  loss = 2799.97\n",
      "  loss = 2144.35\n",
      "  loss = 2560.04\n",
      "  loss = 2759.79\n",
      "  loss = 2914.15\n",
      "  => mean(loss) = 2589.41\n",
      "Epoch 15\n",
      "  loss = 2495.89\n",
      "  loss = 2773.30\n",
      "  loss = 2815.70\n",
      "  loss = 3481.02\n",
      "  loss = 2794.02\n",
      "  => mean(loss) = 2570.34\n",
      "Epoch 16\n",
      "  loss = 2177.62\n",
      "  loss = 2479.08\n",
      "  loss = 2679.66\n",
      "  loss = 2593.25\n",
      "  loss = 2751.57\n",
      "  => mean(loss) = 2560.84\n",
      "Epoch 17\n",
      "  loss = 2182.84\n",
      "  loss = 2724.52\n",
      "  loss = 2908.14\n",
      "  loss = 2680.03\n",
      "  loss = 2361.52\n",
      "  => mean(loss) = 2598.06\n",
      "Epoch 18\n",
      "  loss = 3136.30\n",
      "  loss = 2377.82\n",
      "  loss = 3057.03\n",
      "  loss = 2831.94\n",
      "  loss = 2474.59\n",
      "  => mean(loss) = 2574.96\n",
      "Epoch 19\n",
      "  loss = 3100.12\n",
      "  loss = 2241.70\n",
      "  loss = 2218.37\n",
      "  loss = 2496.32\n",
      "  loss = 2373.93\n",
      "  => mean(loss) = 2589.49\n"
     ]
    }
   ],
   "source": [
    "for epoch in range(max_epochs):\n",
    "    print(f\"Epoch {epoch}\")\n",
    "    losses = []\n",
    "    for ix, (x, y) in enumerate(train_loader):\n",
    "        x = x.to(device)\n",
    "        y = y.to(device)\n",
    "\n",
    "        loss = ddpm.loss(x)\n",
    "\n",
    "        opt.zero_grad()\n",
    "        loss.backward()\n",
    "        opt.step()\n",
    "\n",
    "        losses.append(loss.item())\n",
    "        if ix % display_step == 0:\n",
    "            print(f\"  loss = {loss.item():.2f}\")\n",
    "    print(f\"  => mean(loss) = {np.mean(losses):.2f}\")"
   ]
  },
  {
   "cell_type": "markdown",
   "metadata": {},
   "source": [
    "## Sampling"
   ]
  },
  {
   "cell_type": "code",
   "execution_count": 21,
   "metadata": {},
   "outputs": [],
   "source": [
    "samples = ddpm.sample(20, device)"
   ]
  },
  {
   "cell_type": "code",
   "execution_count": 22,
   "metadata": {},
   "outputs": [
    {
     "data": {
      "image/png": "[encoded data removed]",
      "text/plain": [
       "<Figure size 500x600 with 20 Axes>"
      ]
     },
     "metadata": {},
     "output_type": "display_data"
    }
   ],
   "source": [
    "visualize_mnist_samples(samples);"
   ]
  }
 ],
 "metadata": {
  "kernelspec": {
   "display_name": "Python 3 (ipykernel)",
   "language": "python",
   "name": "python3"
  },
  "language_info": {
   "codemirror_mode": {
    "name": "ipython",
    "version": 3
   },
   "file_extension": ".py",
   "mimetype": "text/x-python",
   "name": "python",
   "nbconvert_exporter": "python",
   "pygments_lexer": "ipython3",
   "version": "3.11.5"
  }
 },
 "nbformat": 4,
 "nbformat_minor": 4
}
